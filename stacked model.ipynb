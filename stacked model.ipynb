{
 "cells": [
  {
   "cell_type": "code",
   "execution_count": null,
   "metadata": {},
   "outputs": [],
   "source": [
    "import pandas as pd\n",
    "import numpy as np"
   ]
  },
  {
   "cell_type": "code",
   "execution_count": null,
   "metadata": {},
   "outputs": [],
   "source": [
    "# import text_based probablity prediction\n",
    "train_text = pd.read_csv('text_train_probablity.csv')\n",
    "validation_text = pd.read_csv('text_validation_probablity.csv')\n",
    "test_text = pd.read_csv('text_test_probablity.csv')"
   ]
  },
  {
   "cell_type": "code",
   "execution_count": null,
   "metadata": {},
   "outputs": [],
   "source": [
    "# import image_based probablity prediction\n",
    "train_image = pd.read_csv('image_train_probablity.csv')\n",
    "validation_image = pd.read_csv('image_validation_probablity.csv')\n",
    "test_image = pd.read_csv('image_test_probablity.csv')"
   ]
  },
  {
   "cell_type": "code",
   "execution_count": null,
   "metadata": {},
   "outputs": [],
   "source": [
    "# concatenate image and text reuslts\n",
    "train_image_text = pd.concat([train_image, train_text.drop(['itemid', 'Category'], axis=1)], axis=1)\n",
    "validation_image_text = pd.concat([validation_image, validation_text.drop(['itemid', 'Category'], axis=1)], axis=1)\n",
    "test_image_text = pd.concat([test_image, test_text.drop(['itemid'], axis=1)], axis=1)"
   ]
  },
  {
   "cell_type": "code",
   "execution_count": null,
   "metadata": {},
   "outputs": [],
   "source": [
    "# save files to csv for future use\n",
    "train_image_text.to_csv('train_image_text_probablity.csv', index=False)\n",
    "validation_image_text.to_csv('validation_image_text_probablity.csv', index=False)\n",
    "test_image_text.to_csv('test_image_text_probablity.csv', index=False)"
   ]
  },
  {
   "cell_type": "code",
   "execution_count": null,
   "metadata": {},
   "outputs": [],
   "source": [
    "#concatenate train and validaiton for grid search\n",
    "total_train = pd.concat([train_image_text,validation_image_text])"
   ]
  },
  {
   "cell_type": "code",
   "execution_count": null,
   "metadata": {},
   "outputs": [],
   "source": [
    "train_X = total_train.drop(['itemid', 'Category'], axis=1)"
   ]
  },
  {
   "cell_type": "code",
   "execution_count": null,
   "metadata": {},
   "outputs": [],
   "source": [
    "train_y = total_train['Category']"
   ]
  },
  {
   "cell_type": "code",
   "execution_count": null,
   "metadata": {},
   "outputs": [],
   "source": [
    "test_X = test_image_text.drop(['itemid'], axis=1)"
   ]
  },
  {
   "cell_type": "code",
   "execution_count": null,
   "metadata": {},
   "outputs": [],
   "source": [
    "from sklearn.linear_model import LogisticRegression\n",
    "from sklearn.model_selection import GridSearchCV"
   ]
  },
  {
   "cell_type": "code",
   "execution_count": null,
   "metadata": {},
   "outputs": [],
   "source": [
    "#logistic regression cross validation\n",
    "lg = LogisticRegression(random_state=0,solver='lbfgs',multi_class='multinomial',n_jobs=-1)\n",
    "param_grid={'C': [0.1,1,10]}\n",
    "lg_grid=GridSearchCV(estimator=lg,param_grid=param_grid,cv=5, verbose=2,n_jobs=-1)\n",
    "lg_grid.fit(train_X, train_y)"
   ]
  },
  {
   "cell_type": "code",
   "execution_count": null,
   "metadata": {},
   "outputs": [],
   "source": [
    "# get best C value\n",
    "lg_grid.best_params_"
   ]
  },
  {
   "cell_type": "code",
   "execution_count": null,
   "metadata": {},
   "outputs": [],
   "source": [
    "#logistic regression using best C (C=10 in this case)\n",
    "lg = LogisticRegression(C=10,random_state=0,solver='lbfgs',multi_class='multinomial',n_jobs=-1)"
   ]
  },
  {
   "cell_type": "code",
   "execution_count": null,
   "metadata": {},
   "outputs": [],
   "source": [
    "lg.fit(train_X, train_y)"
   ]
  },
  {
   "cell_type": "code",
   "execution_count": null,
   "metadata": {},
   "outputs": [],
   "source": [
    "# predict test data\n",
    "prediction=lg.predict(test_X)"
   ]
  },
  {
   "cell_type": "code",
   "execution_count": null,
   "metadata": {},
   "outputs": [],
   "source": [
    "results = test_image_text[['itemid']]"
   ]
  },
  {
   "cell_type": "code",
   "execution_count": null,
   "metadata": {},
   "outputs": [],
   "source": [
    "results['Category'] = prediction"
   ]
  },
  {
   "cell_type": "code",
   "execution_count": null,
   "metadata": {},
   "outputs": [],
   "source": [
    "# save file to csv for submission\n",
    "results.to_csv('final submission_Newdies.csv', index=False)"
   ]
  },
  {
   "cell_type": "code",
   "execution_count": null,
   "metadata": {},
   "outputs": [],
   "source": []
  }
 ],
 "metadata": {
  "kernelspec": {
   "display_name": "Python 3",
   "language": "python",
   "name": "python3"
  },
  "language_info": {
   "codemirror_mode": {
    "name": "ipython",
    "version": 3
   },
   "file_extension": ".py",
   "mimetype": "text/x-python",
   "name": "python",
   "nbconvert_exporter": "python",
   "pygments_lexer": "ipython3",
   "version": "3.6.8"
  }
 },
 "nbformat": 4,
 "nbformat_minor": 2
}
